{
 "cells": [
  {
   "cell_type": "markdown",
   "metadata": {},
   "source": [
    "### Quick Sort 快速排序的实现"
   ]
  },
  {
   "cell_type": "code",
   "execution_count": 10,
   "metadata": {},
   "outputs": [
    {
     "name": "stdout",
     "output_type": "stream",
     "text": [
      "[21, 4, 1, 3, 9, 20, 25, 6, 21, 14]\n",
      "[14, 4, 1, 3, 9, 20, 6, 21, 21, 25]\n",
      "[6, 4, 1, 3, 9, 14, 20, 21, 21, 25]\n",
      "[3, 4, 1, 6, 9, 14, 20, 21, 21, 25]\n",
      "[1, 3, 4, 6, 9, 14, 20, 21, 21, 25]\n"
     ]
    }
   ],
   "source": [
    "array = [21, 4, 1, 3, 9, 20, 25, 6, 21, 14]\n",
    "\n",
    "def PivotSort(array, begin, end):\n",
    "    print(array)\n",
    "    pivot = begin\n",
    "    for i in range(begin+1, end+1):\n",
    "        if array[i] < array[begin]:\n",
    "            pivot += 1\n",
    "            array[i], array[pivot] = array[pivot], array[i]\n",
    "    array[begin], array[pivot] = array[pivot], array[begin]\n",
    "    return pivot\n",
    "\n",
    "def QuickSort(array, begin=0, end=len(array)-1):\n",
    "    if begin == end:\n",
    "        return\n",
    "    if end - begin == 1 and array[end] >= array[begin]:\n",
    "        return\n",
    "    else:\n",
    "        index = PivotSort(array, begin, end)\n",
    "        QuickSort(array, begin, index-1)\n",
    "        QuickSort(array, index+1, end)\n",
    "    \n",
    "QuickSort(array)\n",
    "print(array)"
   ]
  },
  {
   "cell_type": "code",
   "execution_count": 27,
   "metadata": {},
   "outputs": [
    {
     "name": "stdout",
     "output_type": "stream",
     "text": [
      "[21, 4, 1, 3, 9, 20, 25, 6, 14, 21]\n",
      "[6, 4, 1, 3, 9, 20, 25, 14, 21, 21]\n",
      "[6, 4, 1, 3, 9, 20, 25, 14, 21, 21]\n",
      "[6, 4, 1, 3, 9, 20, 25, 14, 21, 21]\n",
      "[6, 4, 1, 3, 9, 20, 25, 14, 21, 21]\n",
      "[6, 4, 1, 3, 9, 20, 25, 14, 21, 21]\n",
      "[6, 4, 1, 3, 9, 20, 25, 14, 21, 21]\n",
      "[6, 4, 1, 3, 9, 25, 14, 20, 21, 21]\n",
      "[6, 4, 1, 3, 9, 14, 25, 20, 21, 21]\n",
      "5\n"
     ]
    }
   ],
   "source": [
    "def pivot_sort(array, last, first=0):\n",
    "    pivot = last\n",
    "    i = first\n",
    "    temp = 0\n",
    "    while(i != pivot):\n",
    "        if array[i] > array[pivot]:\n",
    "            temp = array[i]\n",
    "            array[i] = array[pivot-1]\n",
    "            array[pivot-1] = array[pivot]\n",
    "            array[pivot] = temp\n",
    "            pivot -= 1\n",
    "        else:\n",
    "            i += 1\n",
    "        print(array)\n",
    "    return pivot\n",
    "        \n",
    "array = [21, 4, 1, 3, 9, 20, 25, 6, 21, 14]\n",
    "pivot_sort(array,len(array)-1)\n",
    "print(pivot)"
   ]
  },
  {
   "cell_type": "code",
   "execution_count": 45,
   "metadata": {},
   "outputs": [
    {
     "name": "stdout",
     "output_type": "stream",
     "text": [
      "[21, 4, 1, 3, 9, 20, 25, 6, 21, 14]\n"
     ]
    }
   ],
   "source": [
    "def quick_sort(array, last, first=0):\n",
    "    pivot = last\n",
    "    pivot = pivot_sort(array, last, first)\n",
    "    if ~(first == last and first == pivot):\n",
    "        if (last - first) == 1:\n",
    "            if array[last] < array[first]:\n",
    "                temp = 0\n",
    "                temp = array[last]\n",
    "                array[last] = array[first]\n",
    "                array[first] = temp\n",
    "        else:\n",
    "            quick_sort(array, pivot-1, first)\n",
    "            quick_sort(array, last, pivot+1)\n",
    "\n",
    "array = [21, 4, 1, 3, 9, 20, 25, 6, 21, 14]\n",
    "#quick_sort(array,len(array)-1)\n",
    "print(array)"
   ]
  },
  {
   "cell_type": "markdown",
   "metadata": {},
   "source": [
    "### 实现快速排序"
   ]
  },
  {
   "cell_type": "code",
   "execution_count": 44,
   "metadata": {},
   "outputs": [
    {
     "name": "stdout",
     "output_type": "stream",
     "text": [
      "[21, 4, 1, 3, 9, 20, 25, 6, 14, 21]\n",
      "[6, 4, 1, 3, 9, 20, 25, 14, 21, 21]\n",
      "[6, 4, 1, 3, 9, 20, 25, 14, 21, 21]\n",
      "[6, 4, 1, 3, 9, 20, 25, 14, 21, 21]\n",
      "[6, 4, 1, 3, 9, 20, 25, 14, 21, 21]\n",
      "[6, 4, 1, 3, 9, 20, 25, 14, 21, 21]\n",
      "[6, 4, 1, 3, 9, 20, 25, 14, 21, 21]\n",
      "[6, 4, 1, 3, 9, 25, 14, 20, 21, 21]\n",
      "[6, 4, 1, 3, 9, 14, 25, 20, 21, 21]\n",
      "[6, 4, 1, 3, 9, 14, 25, 20, 21, 21]\n",
      "[6, 4, 1, 3, 9, 14, 25, 20, 21, 21]\n",
      "[6, 4, 1, 3, 9, 14, 25, 20, 21, 21]\n",
      "[6, 4, 1, 3, 9, 14, 25, 20, 21, 21]\n",
      "[1, 4, 3, 6, 9, 14, 25, 20, 21, 21]\n",
      "[1, 4, 3, 6, 9, 14, 25, 20, 21, 21]\n",
      "[1, 3, 4, 6, 9, 14, 25, 20, 21, 21]\n",
      "[1, 3, 4, 6, 9, 14, 25, 20, 21, 21]\n",
      "[1, 3, 4, 6, 9, 14, 21, 20, 21, 25]\n",
      "[1, 3, 4, 6, 9, 14, 21, 20, 21, 25]\n",
      "[1, 3, 4, 6, 9, 14, 21, 20, 21, 25]\n",
      "[1, 3, 4, 6, 9, 14, 20, 21, 21, 25]\n",
      "[1, 3, 4, 6, 9, 14, 20, 21, 21, 25]\n"
     ]
    }
   ],
   "source": [
    "def pivot_sort(array, last, first=0):\n",
    "    pivot = last\n",
    "    i = first\n",
    "    temp = 0\n",
    "    while(i != pivot):\n",
    "        if array[i] > array[pivot]:\n",
    "            temp = array[i]\n",
    "            array[i] = array[pivot-1]\n",
    "            array[pivot-1] = array[pivot]\n",
    "            array[pivot] = temp\n",
    "            pivot -= 1\n",
    "        else:\n",
    "            i += 1\n",
    "        print(array)\n",
    "    return pivot\n",
    "\n",
    "def quick_sort(array, last, first=0):\n",
    "    pivot = last\n",
    "    pivot = pivot_sort(array, last, first)\n",
    "    if pivot == first or pivot == last:\n",
    "        if first == last:\n",
    "            return\n",
    "        elif pivot == first:\n",
    "            pivot += 1\n",
    "            quick_sort(array,last,first+1)\n",
    "        else:\n",
    "            pivot -= 1\n",
    "            quick_sort(array,last-1,first)\n",
    "    else:\n",
    "        quick_sort(array, pivot-1, first)\n",
    "        quick_sort(array, last, pivot+1)\n",
    "\n",
    "array = [21, 4, 1, 3, 9, 20, 25, 6, 21, 14]\n",
    "quick_sort(array,len(array)-1)\n",
    "print(array)"
   ]
  },
  {
   "cell_type": "code",
   "execution_count": null,
   "metadata": {
    "collapsed": true
   },
   "outputs": [],
   "source": []
  }
 ],
 "metadata": {
  "kernelspec": {
   "display_name": "Python 2",
   "language": "python",
   "name": "python2"
  },
  "language_info": {
   "codemirror_mode": {
    "name": "ipython",
    "version": 2
   },
   "file_extension": ".py",
   "mimetype": "text/x-python",
   "name": "python",
   "nbconvert_exporter": "python",
   "pygments_lexer": "ipython2",
   "version": "2.7.14"
  }
 },
 "nbformat": 4,
 "nbformat_minor": 2
}
